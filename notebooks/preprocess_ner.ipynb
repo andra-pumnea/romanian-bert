{
 "cells": [
  {
   "cell_type": "code",
   "execution_count": 11,
   "metadata": {},
   "outputs": [],
   "source": [
    "import pandas as pd\n",
    "import numpy as np\n",
    "pd.set_option('display.max_rows', 500)"
   ]
  },
  {
   "cell_type": "code",
   "execution_count": 12,
   "metadata": {},
   "outputs": [],
   "source": [
    "# awk -F \"\\t\" 'NF != 11' ronec_no_metadata.conllup\n",
    "# sed '/^#/ d' ronec.conllup > ronec_no_metadata.conllup"
   ]
  },
  {
   "cell_type": "code",
   "execution_count": 13,
   "metadata": {},
   "outputs": [],
   "source": [
    "ronec = pd.read_csv('/Users/apum/ronec/ronec/conllup/raw/ronec_no_metadata.conllup', sep='\\t', header=None)"
   ]
  },
  {
   "cell_type": "code",
   "execution_count": 14,
   "metadata": {},
   "outputs": [
    {
     "data": {
      "text/html": [
       "<div>\n",
       "<style scoped>\n",
       "    .dataframe tbody tr th:only-of-type {\n",
       "        vertical-align: middle;\n",
       "    }\n",
       "\n",
       "    .dataframe tbody tr th {\n",
       "        vertical-align: top;\n",
       "    }\n",
       "\n",
       "    .dataframe thead th {\n",
       "        text-align: right;\n",
       "    }\n",
       "</style>\n",
       "<table border=\"1\" class=\"dataframe\">\n",
       "  <thead>\n",
       "    <tr style=\"text-align: right;\">\n",
       "      <th></th>\n",
       "      <th>0</th>\n",
       "      <th>1</th>\n",
       "      <th>2</th>\n",
       "      <th>3</th>\n",
       "      <th>4</th>\n",
       "      <th>5</th>\n",
       "      <th>6</th>\n",
       "      <th>7</th>\n",
       "      <th>8</th>\n",
       "      <th>9</th>\n",
       "      <th>10</th>\n",
       "    </tr>\n",
       "  </thead>\n",
       "  <tbody>\n",
       "    <tr>\n",
       "      <th>0</th>\n",
       "      <td>1</td>\n",
       "      <td>Tot</td>\n",
       "      <td>tot</td>\n",
       "      <td>ADV</td>\n",
       "      <td>Rp</td>\n",
       "      <td>_</td>\n",
       "      <td>3</td>\n",
       "      <td>advmod</td>\n",
       "      <td>_</td>\n",
       "      <td>_</td>\n",
       "      <td>*</td>\n",
       "    </tr>\n",
       "    <tr>\n",
       "      <th>1</th>\n",
       "      <td>2</td>\n",
       "      <td>în</td>\n",
       "      <td>în</td>\n",
       "      <td>ADP</td>\n",
       "      <td>Spsa</td>\n",
       "      <td>AdpType=Prep|Case=Acc</td>\n",
       "      <td>3</td>\n",
       "      <td>case</td>\n",
       "      <td>_</td>\n",
       "      <td>_</td>\n",
       "      <td>*</td>\n",
       "    </tr>\n",
       "    <tr>\n",
       "      <th>2</th>\n",
       "      <td>3</td>\n",
       "      <td>cadrul</td>\n",
       "      <td>cadru</td>\n",
       "      <td>NOUN</td>\n",
       "      <td>Ncmsry</td>\n",
       "      <td>Case=Acc,Nom|Definite=Def|Gender=Masc|Number=Sing</td>\n",
       "      <td>10</td>\n",
       "      <td>obl</td>\n",
       "      <td>_</td>\n",
       "      <td>_</td>\n",
       "      <td>*</td>\n",
       "    </tr>\n",
       "    <tr>\n",
       "      <th>3</th>\n",
       "      <td>4</td>\n",
       "      <td>etapei</td>\n",
       "      <td>etapă</td>\n",
       "      <td>NOUN</td>\n",
       "      <td>Ncfsoy</td>\n",
       "      <td>Case=Dat,Gen|Definite=Def|Gender=Fem|Number=Sing</td>\n",
       "      <td>3</td>\n",
       "      <td>nmod</td>\n",
       "      <td>_</td>\n",
       "      <td>_</td>\n",
       "      <td>*</td>\n",
       "    </tr>\n",
       "    <tr>\n",
       "      <th>4</th>\n",
       "      <td>5</td>\n",
       "      <td>a</td>\n",
       "      <td>al</td>\n",
       "      <td>DET</td>\n",
       "      <td>Tsfs</td>\n",
       "      <td>Gender=Fem|Number=Sing|Poss=Yes|PronType=Prs</td>\n",
       "      <td>6</td>\n",
       "      <td>det</td>\n",
       "      <td>_</td>\n",
       "      <td>_</td>\n",
       "      <td>1:ORDINAL</td>\n",
       "    </tr>\n",
       "  </tbody>\n",
       "</table>\n",
       "</div>"
      ],
      "text/plain": [
       "   0       1      2     3       4   \\\n",
       "0   1     Tot    tot   ADV      Rp   \n",
       "1   2      în     în   ADP    Spsa   \n",
       "2   3  cadrul  cadru  NOUN  Ncmsry   \n",
       "3   4  etapei  etapă  NOUN  Ncfsoy   \n",
       "4   5       a     al   DET    Tsfs   \n",
       "\n",
       "                                                  5   6       7  8  9   \\\n",
       "0                                                  _   3  advmod  _  _   \n",
       "1                              AdpType=Prep|Case=Acc   3    case  _  _   \n",
       "2  Case=Acc,Nom|Definite=Def|Gender=Masc|Number=Sing  10     obl  _  _   \n",
       "3   Case=Dat,Gen|Definite=Def|Gender=Fem|Number=Sing   3    nmod  _  _   \n",
       "4       Gender=Fem|Number=Sing|Poss=Yes|PronType=Prs   6     det  _  _   \n",
       "\n",
       "          10  \n",
       "0          *  \n",
       "1          *  \n",
       "2          *  \n",
       "3          *  \n",
       "4  1:ORDINAL  "
      ]
     },
     "execution_count": 14,
     "metadata": {},
     "output_type": "execute_result"
    }
   ],
   "source": [
    "ronec.head(5)"
   ]
  },
  {
   "cell_type": "code",
   "execution_count": 15,
   "metadata": {},
   "outputs": [],
   "source": [
    "# FORM: Word form or punctuation symbol.\n",
    "# LEMMA: Lemma or stem of word form.\n",
    "# UPOSTAG: Universal part-of-speech tag drawn from our revised version of the Google universal POS tags.\n",
    "# XPOSTAG: Language-specific part-of-speech tag; underscore if not available.\n",
    "ronec = ronec[[1, 2, 3, 4, 10]]"
   ]
  },
  {
   "cell_type": "code",
   "execution_count": 16,
   "metadata": {},
   "outputs": [],
   "source": [
    "ronec = ronec.replace({10:'*'}, 'O')"
   ]
  },
  {
   "cell_type": "code",
   "execution_count": 17,
   "metadata": {},
   "outputs": [],
   "source": [
    "ronec['NER'] = (np.where(ronec[10].str.contains(':'),\n",
    "                  ronec[10].str.split(':').str[1],\n",
    "                  ronec[10]))\n",
    "\n",
    "ronec['NER_aux'] = (np.where(ronec[10].str.contains(':'),\n",
    "                  ronec[10].str.split(':').str[0],\n",
    "                  ronec[10]))\n",
    "ronec.fillna('O', inplace=True)"
   ]
  },
  {
   "cell_type": "code",
   "execution_count": 18,
   "metadata": {},
   "outputs": [
    {
     "data": {
      "text/html": [
       "<div>\n",
       "<style scoped>\n",
       "    .dataframe tbody tr th:only-of-type {\n",
       "        vertical-align: middle;\n",
       "    }\n",
       "\n",
       "    .dataframe tbody tr th {\n",
       "        vertical-align: top;\n",
       "    }\n",
       "\n",
       "    .dataframe thead th {\n",
       "        text-align: right;\n",
       "    }\n",
       "</style>\n",
       "<table border=\"1\" class=\"dataframe\">\n",
       "  <thead>\n",
       "    <tr style=\"text-align: right;\">\n",
       "      <th></th>\n",
       "      <th>1</th>\n",
       "      <th>2</th>\n",
       "      <th>3</th>\n",
       "      <th>4</th>\n",
       "      <th>10</th>\n",
       "      <th>NER</th>\n",
       "      <th>NER_aux</th>\n",
       "    </tr>\n",
       "  </thead>\n",
       "  <tbody>\n",
       "    <tr>\n",
       "      <th>0</th>\n",
       "      <td>Tot</td>\n",
       "      <td>tot</td>\n",
       "      <td>ADV</td>\n",
       "      <td>Rp</td>\n",
       "      <td>O</td>\n",
       "      <td>O</td>\n",
       "      <td>O</td>\n",
       "    </tr>\n",
       "    <tr>\n",
       "      <th>1</th>\n",
       "      <td>în</td>\n",
       "      <td>în</td>\n",
       "      <td>ADP</td>\n",
       "      <td>Spsa</td>\n",
       "      <td>O</td>\n",
       "      <td>O</td>\n",
       "      <td>O</td>\n",
       "    </tr>\n",
       "    <tr>\n",
       "      <th>2</th>\n",
       "      <td>cadrul</td>\n",
       "      <td>cadru</td>\n",
       "      <td>NOUN</td>\n",
       "      <td>Ncmsry</td>\n",
       "      <td>O</td>\n",
       "      <td>O</td>\n",
       "      <td>O</td>\n",
       "    </tr>\n",
       "    <tr>\n",
       "      <th>3</th>\n",
       "      <td>etapei</td>\n",
       "      <td>etapă</td>\n",
       "      <td>NOUN</td>\n",
       "      <td>Ncfsoy</td>\n",
       "      <td>O</td>\n",
       "      <td>O</td>\n",
       "      <td>O</td>\n",
       "    </tr>\n",
       "    <tr>\n",
       "      <th>4</th>\n",
       "      <td>a</td>\n",
       "      <td>al</td>\n",
       "      <td>DET</td>\n",
       "      <td>Tsfs</td>\n",
       "      <td>1:ORDINAL</td>\n",
       "      <td>ORDINAL</td>\n",
       "      <td>1</td>\n",
       "    </tr>\n",
       "  </tbody>\n",
       "</table>\n",
       "</div>"
      ],
      "text/plain": [
       "        1      2     3       4         10      NER NER_aux\n",
       "0     Tot    tot   ADV      Rp          O        O       O\n",
       "1      în     în   ADP    Spsa          O        O       O\n",
       "2  cadrul  cadru  NOUN  Ncmsry          O        O       O\n",
       "3  etapei  etapă  NOUN  Ncfsoy          O        O       O\n",
       "4       a     al   DET    Tsfs  1:ORDINAL  ORDINAL       1"
      ]
     },
     "execution_count": 18,
     "metadata": {},
     "output_type": "execute_result"
    }
   ],
   "source": [
    "ronec.head()"
   ]
  },
  {
   "cell_type": "code",
   "execution_count": 19,
   "metadata": {},
   "outputs": [],
   "source": [
    "ronec['NER_NER'] = np.where((ronec['NER'].str.len() > 1), ronec['NER'], '0')\n",
    "ronec['NER_NER'] = np.where((ronec['NER'] == ronec['NER_aux'].shift(1)), ronec['NER'].shift(1), ronec['NER'])"
   ]
  },
  {
   "cell_type": "code",
   "execution_count": 20,
   "metadata": {},
   "outputs": [],
   "source": [
    "ronec = ronec[[1, 2, 3, 4, 'NER_NER']]"
   ]
  },
  {
   "cell_type": "code",
   "execution_count": 21,
   "metadata": {},
   "outputs": [
    {
     "data": {
      "text/html": [
       "<div>\n",
       "<style scoped>\n",
       "    .dataframe tbody tr th:only-of-type {\n",
       "        vertical-align: middle;\n",
       "    }\n",
       "\n",
       "    .dataframe tbody tr th {\n",
       "        vertical-align: top;\n",
       "    }\n",
       "\n",
       "    .dataframe thead th {\n",
       "        text-align: right;\n",
       "    }\n",
       "</style>\n",
       "<table border=\"1\" class=\"dataframe\">\n",
       "  <thead>\n",
       "    <tr style=\"text-align: right;\">\n",
       "      <th></th>\n",
       "      <th>1</th>\n",
       "      <th>2</th>\n",
       "      <th>3</th>\n",
       "      <th>4</th>\n",
       "      <th>NER_NER</th>\n",
       "    </tr>\n",
       "  </thead>\n",
       "  <tbody>\n",
       "    <tr>\n",
       "      <th>0</th>\n",
       "      <td>Tot</td>\n",
       "      <td>tot</td>\n",
       "      <td>ADV</td>\n",
       "      <td>Rp</td>\n",
       "      <td>O</td>\n",
       "    </tr>\n",
       "    <tr>\n",
       "      <th>1</th>\n",
       "      <td>în</td>\n",
       "      <td>în</td>\n",
       "      <td>ADP</td>\n",
       "      <td>Spsa</td>\n",
       "      <td>O</td>\n",
       "    </tr>\n",
       "    <tr>\n",
       "      <th>2</th>\n",
       "      <td>cadrul</td>\n",
       "      <td>cadru</td>\n",
       "      <td>NOUN</td>\n",
       "      <td>Ncmsry</td>\n",
       "      <td>O</td>\n",
       "    </tr>\n",
       "    <tr>\n",
       "      <th>3</th>\n",
       "      <td>etapei</td>\n",
       "      <td>etapă</td>\n",
       "      <td>NOUN</td>\n",
       "      <td>Ncfsoy</td>\n",
       "      <td>O</td>\n",
       "    </tr>\n",
       "    <tr>\n",
       "      <th>4</th>\n",
       "      <td>a</td>\n",
       "      <td>al</td>\n",
       "      <td>DET</td>\n",
       "      <td>Tsfs</td>\n",
       "      <td>ORDINAL</td>\n",
       "    </tr>\n",
       "  </tbody>\n",
       "</table>\n",
       "</div>"
      ],
      "text/plain": [
       "        1      2     3       4  NER_NER\n",
       "0     Tot    tot   ADV      Rp        O\n",
       "1      în     în   ADP    Spsa        O\n",
       "2  cadrul  cadru  NOUN  Ncmsry        O\n",
       "3  etapei  etapă  NOUN  Ncfsoy        O\n",
       "4       a     al   DET    Tsfs  ORDINAL"
      ]
     },
     "execution_count": 21,
     "metadata": {},
     "output_type": "execute_result"
    }
   ],
   "source": [
    "ronec.head()"
   ]
  },
  {
   "cell_type": "code",
   "execution_count": 22,
   "metadata": {},
   "outputs": [],
   "source": [
    "ronec_train = pd.read_csv('/Users/apum/ronec/ronec/conllup/raw/train_ronec_no_metadata.conllubio', sep='\\t', header=None)\n",
    "ronec_dev = pd.read_csv('/Users/apum/ronec/ronec/conllup/raw/dev_ronec_no_metadata.conllubio', sep='\\t', header=None)"
   ]
  },
  {
   "cell_type": "code",
   "execution_count": 23,
   "metadata": {},
   "outputs": [
    {
     "data": {
      "text/html": [
       "<div>\n",
       "<style scoped>\n",
       "    .dataframe tbody tr th:only-of-type {\n",
       "        vertical-align: middle;\n",
       "    }\n",
       "\n",
       "    .dataframe tbody tr th {\n",
       "        vertical-align: top;\n",
       "    }\n",
       "\n",
       "    .dataframe thead th {\n",
       "        text-align: right;\n",
       "    }\n",
       "</style>\n",
       "<table border=\"1\" class=\"dataframe\">\n",
       "  <thead>\n",
       "    <tr style=\"text-align: right;\">\n",
       "      <th></th>\n",
       "      <th>1</th>\n",
       "      <th>2</th>\n",
       "      <th>3</th>\n",
       "      <th>7</th>\n",
       "      <th>9</th>\n",
       "    </tr>\n",
       "  </thead>\n",
       "  <tbody>\n",
       "    <tr>\n",
       "      <th>0</th>\n",
       "      <td>Tot</td>\n",
       "      <td>tot</td>\n",
       "      <td>ADV</td>\n",
       "      <td>advmod</td>\n",
       "      <td>O</td>\n",
       "    </tr>\n",
       "    <tr>\n",
       "      <th>1</th>\n",
       "      <td>în</td>\n",
       "      <td>în</td>\n",
       "      <td>ADP</td>\n",
       "      <td>case</td>\n",
       "      <td>O</td>\n",
       "    </tr>\n",
       "    <tr>\n",
       "      <th>2</th>\n",
       "      <td>cadrul</td>\n",
       "      <td>cadru</td>\n",
       "      <td>NOUN</td>\n",
       "      <td>obl</td>\n",
       "      <td>O</td>\n",
       "    </tr>\n",
       "    <tr>\n",
       "      <th>3</th>\n",
       "      <td>etapei</td>\n",
       "      <td>etapă</td>\n",
       "      <td>NOUN</td>\n",
       "      <td>nmod</td>\n",
       "      <td>O</td>\n",
       "    </tr>\n",
       "    <tr>\n",
       "      <th>4</th>\n",
       "      <td>a</td>\n",
       "      <td>al</td>\n",
       "      <td>DET</td>\n",
       "      <td>det</td>\n",
       "      <td>I ORDINAL</td>\n",
       "    </tr>\n",
       "  </tbody>\n",
       "</table>\n",
       "</div>"
      ],
      "text/plain": [
       "        1      2     3       7          9\n",
       "0     Tot    tot   ADV  advmod          O\n",
       "1      în     în   ADP    case          O\n",
       "2  cadrul  cadru  NOUN     obl          O\n",
       "3  etapei  etapă  NOUN    nmod          O\n",
       "4       a     al   DET     det  I ORDINAL"
      ]
     },
     "execution_count": 23,
     "metadata": {},
     "output_type": "execute_result"
    }
   ],
   "source": [
    "ronec_train = ronec_train[[1, 2, 3, 7, 9]]\n",
    "ronec_train.head()"
   ]
  },
  {
   "cell_type": "code",
   "execution_count": 24,
   "metadata": {},
   "outputs": [
    {
     "data": {
      "text/html": [
       "<div>\n",
       "<style scoped>\n",
       "    .dataframe tbody tr th:only-of-type {\n",
       "        vertical-align: middle;\n",
       "    }\n",
       "\n",
       "    .dataframe tbody tr th {\n",
       "        vertical-align: top;\n",
       "    }\n",
       "\n",
       "    .dataframe thead th {\n",
       "        text-align: right;\n",
       "    }\n",
       "</style>\n",
       "<table border=\"1\" class=\"dataframe\">\n",
       "  <thead>\n",
       "    <tr style=\"text-align: right;\">\n",
       "      <th></th>\n",
       "      <th>1</th>\n",
       "      <th>2</th>\n",
       "      <th>3</th>\n",
       "      <th>7</th>\n",
       "      <th>9</th>\n",
       "    </tr>\n",
       "  </thead>\n",
       "  <tbody>\n",
       "    <tr>\n",
       "      <th>0</th>\n",
       "      <td>Totodată</td>\n",
       "      <td>totodată</td>\n",
       "      <td>ADV</td>\n",
       "      <td>advmod</td>\n",
       "      <td>O</td>\n",
       "    </tr>\n",
       "    <tr>\n",
       "      <th>1</th>\n",
       "      <td>,</td>\n",
       "      <td>,</td>\n",
       "      <td>PUNCT</td>\n",
       "      <td>punct</td>\n",
       "      <td>O</td>\n",
       "    </tr>\n",
       "    <tr>\n",
       "      <th>2</th>\n",
       "      <td>pierderea</td>\n",
       "      <td>pierdere</td>\n",
       "      <td>NOUN</td>\n",
       "      <td>nsubj</td>\n",
       "      <td>O</td>\n",
       "    </tr>\n",
       "    <tr>\n",
       "      <th>3</th>\n",
       "      <td>documentului</td>\n",
       "      <td>document</td>\n",
       "      <td>NOUN</td>\n",
       "      <td>nmod</td>\n",
       "      <td>O</td>\n",
       "    </tr>\n",
       "    <tr>\n",
       "      <th>4</th>\n",
       "      <td>de</td>\n",
       "      <td>de</td>\n",
       "      <td>ADP</td>\n",
       "      <td>case</td>\n",
       "      <td>O</td>\n",
       "    </tr>\n",
       "  </tbody>\n",
       "</table>\n",
       "</div>"
      ],
      "text/plain": [
       "              1         2      3       7  9\n",
       "0      Totodată  totodată    ADV  advmod  O\n",
       "1             ,         ,  PUNCT   punct  O\n",
       "2     pierderea  pierdere   NOUN   nsubj  O\n",
       "3  documentului  document   NOUN    nmod  O\n",
       "4            de        de    ADP    case  O"
      ]
     },
     "execution_count": 24,
     "metadata": {},
     "output_type": "execute_result"
    }
   ],
   "source": [
    "ronec_dev = ronec_dev[[1, 2, 3, 7, 9]]\n",
    "ronec_dev.head()"
   ]
  },
  {
   "cell_type": "code",
   "execution_count": 25,
   "metadata": {},
   "outputs": [],
   "source": [
    "ronec_train[9] = ronec_train[9].str.replace(' ', '-')\n",
    "ronec_dev[9] = ronec_dev[9].str.replace(' ', '-')"
   ]
  },
  {
   "cell_type": "code",
   "execution_count": 26,
   "metadata": {},
   "outputs": [],
   "source": [
    "ronec_train = ronec_train.dropna(axis=0, subset=[9])\n",
    "ronec_dev = ronec_dev.dropna(axis=0, subset=[9])"
   ]
  },
  {
   "cell_type": "code",
   "execution_count": 27,
   "metadata": {},
   "outputs": [],
   "source": [
    "#ronec_train.to_csv('/Users/apum/romanian-bert/downstream-tasks/ner/train_ronec.conllu', header=None, sep='\\t', index=False)\n",
    "#ronec_dev.to_csv('/Users/apum/romanian-bert/downstream-tasks/ner/dev_ronec.conllu', header=None, sep='\\t', index=False)"
   ]
  },
  {
   "cell_type": "code",
   "execution_count": 28,
   "metadata": {},
   "outputs": [
    {
     "data": {
      "text/plain": [
       "1    0\n",
       "2    0\n",
       "3    0\n",
       "7    0\n",
       "9    0\n",
       "dtype: int64"
      ]
     },
     "execution_count": 28,
     "metadata": {},
     "output_type": "execute_result"
    }
   ],
   "source": [
    "ronec_train.isnull().sum()"
   ]
  },
  {
   "cell_type": "code",
   "execution_count": null,
   "metadata": {},
   "outputs": [],
   "source": []
  }
 ],
 "metadata": {
  "kernelspec": {
   "display_name": "Python 3",
   "language": "python",
   "name": "python3"
  },
  "language_info": {
   "codemirror_mode": {
    "name": "ipython",
    "version": 3
   },
   "file_extension": ".py",
   "mimetype": "text/x-python",
   "name": "python",
   "nbconvert_exporter": "python",
   "pygments_lexer": "ipython3",
   "version": "3.7.1"
  }
 },
 "nbformat": 4,
 "nbformat_minor": 2
}
